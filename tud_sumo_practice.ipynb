{
 "cells": [
  {
   "cell_type": "markdown",
   "metadata": {},
   "source": [
    "# tud-sumo pracitce"
   ]
  },
  {
   "cell_type": "code",
   "execution_count": 1,
   "metadata": {},
   "outputs": [],
   "source": [
    "from tud_sumo.simulation import Simulation\n",
    "\n",
    "my_sim = Simulation(scenario_name=\"example\", scenario_desc=\"Example simulation.\")"
   ]
  },
  {
   "cell_type": "code",
   "execution_count": 2,
   "metadata": {},
   "outputs": [],
   "source": [
    "#sim.start\n",
    "my_sim.start(\"./gui/sumo_test.sumocfg\",\n",
    "             gui=True,\n",
    "             get_individual_vehicle_data=False,\n",
    "             units=\"metric\",\n",
    "             suppress_pbar=True,\n",
    "             seed=1\n",
    "            )"
   ]
  },
  {
   "cell_type": "code",
   "execution_count": null,
   "metadata": {},
   "outputs": [],
   "source": [
    "help(my_sim.start)"
   ]
  },
  {
   "cell_type": "code",
   "execution_count": null,
   "metadata": {},
   "outputs": [],
   "source": [
    "# go"
   ]
  },
  {
   "cell_type": "code",
   "execution_count": null,
   "metadata": {},
   "outputs": [],
   "source": [
    "my_sum.start(\"./gui/sumo_test.sumocfg\",\n",
    "             gui=True,\n",
    "             get_individual_vehicle_data=False,\n",
    "             units=\"metric\",\n",
    "             suppress_pbar=False,\n",
    "             seed=1,\n",
    "                sim_step=0.1.as_integer_rat\n",
    "             \n",
    "            )\n"
   ]
  }
 ],
 "metadata": {
  "kernelspec": {
   "display_name": "tud-sumo",
   "language": "python",
   "name": "python3"
  },
  "language_info": {
   "codemirror_mode": {
    "name": "ipython",
    "version": 3
   },
   "file_extension": ".py",
   "mimetype": "text/x-python",
   "name": "python",
   "nbconvert_exporter": "python",
   "pygments_lexer": "ipython3",
   "version": "3.12.8"
  }
 },
 "nbformat": 4,
 "nbformat_minor": 2
}
